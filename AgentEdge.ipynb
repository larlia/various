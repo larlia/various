{
 "cells": [
  {
   "cell_type": "markdown",
   "metadata": {},
   "source": [
    "## Sensor input simulation"
   ]
  },
  {
   "cell_type": "code",
   "execution_count": null,
   "metadata": {},
   "outputs": [],
   "source": [
    "import paho.mqtt.client as mqtt\n",
    "import time\n",
    "from random import random\n",
    "import json"
   ]
  },
  {
   "cell_type": "markdown",
   "metadata": {},
   "source": [
    "### Setup of mqtt client"
   ]
  },
  {
   "cell_type": "code",
   "execution_count": null,
   "metadata": {},
   "outputs": [],
   "source": [
    "# Definition of callbacks that are automatically called\n",
    "# on certain events (connection, message sent, message received, etc.)\n",
    "\n",
    "def on_connect(client, userdata, flags, rc):\n",
    "    print(\"Connected to message broker with result code \" + str(rc))\n",
    "\n",
    "def on_message(client, userdata, msg):\n",
    "    print(msg.topic + \" \" + str(msg.payload))\n",
    "    \n",
    "def on_disconnect(client, userdata, rc):\n",
    "    print(\"Disconnected from message broker with result code \" + str(rc))\n",
    "    client.loop_stop()\n",
    "    \n",
    "def on_publish(client, userdata, mid):\n",
    "    print(\"Message successfully sent to broker\")"
   ]
  },
  {
   "cell_type": "code",
   "execution_count": null,
   "metadata": {
    "scrolled": true
   },
   "outputs": [],
   "source": [
    "# Initialization of client and linking to our callbacks\n",
    "agent_edge = mqtt.Client(client_id = \"AgentEdge\")\n",
    "agent_edge.on_connect = on_connect\n",
    "agent_edge.on_message = on_message\n",
    "agent_edge.on_disconnect = on_disconnect\n",
    "agent_edge.on_publish = on_publish"
   ]
  },
  {
   "cell_type": "markdown",
   "metadata": {},
   "source": [
    "### Setup of sensor objects"
   ]
  },
  {
   "cell_type": "code",
   "execution_count": null,
   "metadata": {},
   "outputs": [],
   "source": [
    "# Definition of two simulated sensors. Only placeholders for the real sensors.\n",
    "class SensorTempHum(object):\n",
    "    \n",
    "    def __init__(self):\n",
    "        pass\n",
    "    \n",
    "    def get_temperature(self):\n",
    "        return (random() * 60) - 20\n",
    "    \n",
    "    def get_humidity(self):\n",
    "        return random()"
   ]
  },
  {
   "cell_type": "code",
   "execution_count": null,
   "metadata": {},
   "outputs": [],
   "source": [
    "class SensorLight(object):\n",
    "    \n",
    "    def __init__(self):\n",
    "        pass\n",
    "    \n",
    "    def get_light(self):\n",
    "        return random() * 10000"
   ]
  },
  {
   "cell_type": "markdown",
   "metadata": {},
   "source": [
    "### JSON setup"
   ]
  },
  {
   "cell_type": "code",
   "execution_count": null,
   "metadata": {},
   "outputs": [],
   "source": [
    "# Use dictionaries for JSON messages, since they easily convert to JSON\n",
    "# All values except those under \"values\" remain the same throughout the run\n",
    "\n",
    "msg_temphum = {\"deviceId\": \"SensorDemo01\",\n",
    "               \"requestId\": \"SensorDemo01_getTempHum\",\n",
    "               \"serviceName\": \"sensorService\",\n",
    "               \"actionName\": \"getTempHum\",\n",
    "               \"type\": \"EVENT\",\n",
    "               \"level\": \"INFO\",\n",
    "               \"values\": \n",
    "                   {\"temperature\": \"N/A\",\n",
    "                    \"humidity\": \"N/A\"\n",
    "                   }\n",
    "              }\n",
    "\n",
    "msg_light = {\"deviceId\": \"SensorDemo01\",\n",
    "             \"requestId\": \"SensorDemo01_getLight\",\n",
    "             \"serviceName\": \"sensorService\",\n",
    "             \"actionName\": \"getLight\",\n",
    "             \"type\": \"EVENT\",\n",
    "             \"level\": \"INFO\",\n",
    "             \"values\": \n",
    "                 {\"light\": \"N/A\"\n",
    "                 }\n",
    "              }"
   ]
  },
  {
   "cell_type": "markdown",
   "metadata": {},
   "source": [
    "### Main loop"
   ]
  },
  {
   "cell_type": "code",
   "execution_count": null,
   "metadata": {
    "scrolled": true
   },
   "outputs": [],
   "source": [
    "hostname = \"localhost\" # Replace with IP adress for an externally hosted broker\n",
    "interval = 5 # Number of seconds between each time data is sent\n",
    "\n",
    "# Connect to the host\n",
    "agent_edge.connect(hostname)\n",
    "\n",
    "# Start loop to ensure that the connection is maintained\n",
    "agent_edge.loop_start() \n",
    "\n",
    "# Initialize connections to the sensors\n",
    "sensor_th = SensorTempHum()\n",
    "sensor_l = SensorLight()\n",
    "\n",
    "# Main loop\n",
    "for i in range(5):\n",
    "    # Get data from sensors and put them in the message dictionaries\n",
    "    msg_temphum[\"values\"][\"temperature\"] = \"{:.2f}\".format(sensor_th.get_temperature())\n",
    "    msg_temphum[\"values\"][\"humidity\"] = \"{:.3f}\".format(sensor_th.get_humidity())\n",
    "    msg_light[\"values\"][\"light\"] = \"{:.2f}\".format(sensor_l.get_light())\n",
    "    \n",
    "    # Publish the messages to the broker using the topic \"home\" (topic is mandatory to include)\n",
    "    agent_edge.publish(\"home\", json.dumps(msg_temphum))\n",
    "    agent_edge.publish(\"home\", json.dumps(msg_light))\n",
    "    \n",
    "    # Wait for X seconds until the next message is sent\n",
    "    time.sleep(interval)\n",
    "    \n",
    "# Disconnect and shut down\n",
    "print(\"Shutting down client and disconnecting.\")\n",
    "agent_edge.disconnect()"
   ]
  }
 ],
 "metadata": {
  "kernelspec": {
   "display_name": "Python 3",
   "language": "python",
   "name": "python3"
  },
  "language_info": {
   "codemirror_mode": {
    "name": "ipython",
    "version": 3
   },
   "file_extension": ".py",
   "mimetype": "text/x-python",
   "name": "python",
   "nbconvert_exporter": "python",
   "pygments_lexer": "ipython3",
   "version": "3.5.2"
  }
 },
 "nbformat": 4,
 "nbformat_minor": 2
}
